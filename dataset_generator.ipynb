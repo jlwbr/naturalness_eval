{
  "cells": [
    {
      "cell_type": "markdown",
      "metadata": {
        "id": "XG_TWkuWa0rL"
      },
      "source": [
        "# Dataset generator"
      ]
    },
    {
      "cell_type": "markdown",
      "metadata": {
        "id": "Kfpg0heFa3Ia"
      },
      "source": [
        "## Imports"
      ]
    },
    {
      "cell_type": "code",
      "execution_count": null,
      "metadata": {
        "colab": {
          "base_uri": "https://localhost:8080/"
        },
        "id": "uzG-rdH1awIo",
        "outputId": "1641ce5e-844f-4df8-aeb2-1cfeeb55d02e"
      },
      "outputs": [
        {
          "output_type": "stream",
          "name": "stderr",
          "text": [
            "[nltk_data] Downloading package punkt to /root/nltk_data...\n",
            "[nltk_data]   Unzipping tokenizers/punkt.zip.\n"
          ]
        },
        {
          "output_type": "execute_result",
          "data": {
            "text/plain": [
              "True"
            ]
          },
          "metadata": {},
          "execution_count": 1
        }
      ],
      "source": [
        "import pandas as pd\n",
        "import nltk\n",
        "from sklearn.model_selection import train_test_split\n",
        "from tqdm.notebook import tqdm\n",
        "import re\n",
        "import string\n",
        "tqdm.pandas()\n",
        "\n",
        "nltk.download('punkt')"
      ]
    },
    {
      "cell_type": "markdown",
      "metadata": {
        "id": "83mrD8_Ub8L2"
      },
      "source": [
        "## Helper functions\n",
        "\n",
        "The following functions are used to extract the right sentences for each class based on certain rules"
      ]
    },
    {
      "cell_type": "markdown",
      "source": [
        "### normalize\n",
        "\n",
        "Runs the following normalizations on a string:\n",
        "- lowercase all letters\n",
        "- remove all punctuation\n",
        "- replace all double spaces with a single space"
      ],
      "metadata": {
        "id": "Et-KElofJ2BQ"
      }
    },
    {
      "cell_type": "code",
      "source": [
        "def normalize(sentence: str):\n",
        "    sentence = sentence.lower()\n",
        "    sentence = sentence.translate(str.maketrans('', '', string.punctuation))\n",
        "    sentence = re.sub(r' +', ' ', sentence)\n",
        "\n",
        "    return sentence"
      ],
      "metadata": {
        "id": "eULEiDGuJeyn"
      },
      "execution_count": null,
      "outputs": []
    },
    {
      "cell_type": "markdown",
      "metadata": {
        "id": "yTS_kf6ba_Ah"
      },
      "source": [
        "### get_ngrams\n",
        "\n",
        "This helper function taks a sentence and an integer n, and returns all ngrams of length n"
      ]
    },
    {
      "cell_type": "code",
      "execution_count": null,
      "metadata": {
        "id": "IT5b4ooia-od"
      },
      "outputs": [],
      "source": [
        "def get_ngrams(sentence: str, n: int):\n",
        "    tokens = nltk.word_tokenize(sentence)\n",
        "    ngrams = nltk.ngrams(tokens, n)\n",
        "    return list(ngrams)"
      ]
    },
    {
      "cell_type": "markdown",
      "metadata": {
        "id": "AjbmwKkJbMzG"
      },
      "source": [
        "### parse_wildcard\n",
        "\n",
        "this function takes a string and a wildcard rule, and checks if the string matches the rule"
      ]
    },
    {
      "cell_type": "code",
      "execution_count": null,
      "metadata": {
        "id": "brBTO8jTbfDu"
      },
      "outputs": [],
      "source": [
        "def parse_wildcard(wildcard: str, string: str):\n",
        "    if len(wildcard) == 0:\n",
        "        return True\n",
        "\n",
        "    n = len(string)\n",
        "    comparator = wildcard[0]\n",
        "    if comparator == '<':\n",
        "        return n < int(wildcard[1:])\n",
        "    elif comparator == '>':\n",
        "        return n > int(wildcard[1:])\n",
        "    elif comparator == '=':\n",
        "        if wildcard[1:].isnumeric():\n",
        "            return n == int(wildcard[1:])\n",
        "        else:\n",
        "            return string == wildcard[1:]\n",
        "    elif comparator == '!':\n",
        "        if wildcard[1] == '(' and wildcard[-1] == ')':\n",
        "            return not parse_wildcard(wildcard[1:-1], string)\n",
        "        elif wildcard[1:].isnumeric():\n",
        "            return n != int(wildcard[1:])\n",
        "        else:\n",
        "            return string != wildcard[1:]\n",
        "    elif comparator == '(' and wildcard[-1] == ')':\n",
        "        splitters = ['|', '&']\n",
        "        splitter_index = -1\n",
        "        splitter = ''\n",
        "        for splitter in splitters:\n",
        "            if splitter in wildcard:\n",
        "                splitter_index = wildcard.index(splitter)\n",
        "                splitter = wildcard[splitter_index]\n",
        "                break\n",
        "\n",
        "        if splitter_index == -1:\n",
        "            return False\n",
        "        else:\n",
        "            left = wildcard[1:splitter_index]\n",
        "            right = wildcard[splitter_index + 1:-1]\n",
        "\n",
        "            if splitter == '|':\n",
        "                return parse_wildcard(left, string) or parse_wildcard(right, string)\n",
        "            elif splitter == '&':\n",
        "                return parse_wildcard(left, string) and parse_wildcard(right, string)"
      ]
    },
    {
      "cell_type": "markdown",
      "metadata": {
        "id": "tU88B_WUbkC1"
      },
      "source": [
        "### get_matching_ngrams\n",
        "\n",
        "get_matching_ngrams takes a sentence, and a set of ngrams of length n and returns all matching sentences."
      ]
    },
    {
      "cell_type": "code",
      "execution_count": null,
      "metadata": {
        "id": "nrtoPkmUbjlk"
      },
      "outputs": [],
      "source": [
        "def get_matching_ngrams(sentence: str, ngrams: list, n: int):\n",
        "    sentence_ngrams = get_ngrams(sentence, n)\n",
        "    matching_ngrams = []\n",
        "    for i in range(len(sentence_ngrams)):\n",
        "        for j in range(len(ngrams)):\n",
        "            match = True\n",
        "            for k in range(n):\n",
        "                match = sentence_ngrams[i][k] == ngrams[j][k]\n",
        "                wildcard_match = ngrams[j][k].startswith('_') and parse_wildcard(ngrams[j][k][1:], sentence_ngrams[i][k])\n",
        "                match = match or wildcard_match\n",
        "\n",
        "                if not match:\n",
        "                    break\n",
        "\n",
        "            if match:\n",
        "                matching_ngrams.append(sentence_ngrams[i])\n",
        "\n",
        "    return matching_ngrams"
      ]
    },
    {
      "cell_type": "markdown",
      "metadata": {
        "id": "JtCXkvCBcf5y"
      },
      "source": [
        "### split_ngrams\n",
        "\n",
        "Splits a list of ngrams of arbitrary length into multiple lists, where each list contains all ngrams of a particular length"
      ]
    },
    {
      "cell_type": "code",
      "execution_count": null,
      "metadata": {
        "id": "dnEGV2AXcs1o"
      },
      "outputs": [],
      "source": [
        "def split_ngrams(ngrams: list):\n",
        "    ngrams_splitted = {}\n",
        "    for ngram in ngrams:\n",
        "        length = len(ngram)\n",
        "        if length not in ngrams_splitted:\n",
        "            ngrams_splitted[length] = []\n",
        "        ngrams_splitted[length].append(ngram)\n",
        "\n",
        "    return ngrams_splitted\n"
      ]
    },
    {
      "cell_type": "markdown",
      "metadata": {
        "id": "VJnaE4BXc09_"
      },
      "source": [
        "### get_matching_ngrams_by_length\n",
        "\n",
        "Takes a list of arbitrary sentences and a list of ngrams of arbitrary length and returns all matches"
      ]
    },
    {
      "cell_type": "code",
      "execution_count": null,
      "metadata": {
        "id": "qGPEzQlQc0Mr"
      },
      "outputs": [],
      "source": [
        "def get_matching_ngrams_by_length(sentence: str, ngrams: list):\n",
        "    ngrams_splitted = split_ngrams(ngrams)\n",
        "    matching_ngrams = []\n",
        "    for length in ngrams_splitted:\n",
        "        matching_ngrams += get_matching_ngrams(sentence, ngrams_splitted[length], length)\n",
        "\n",
        "    return matching_ngrams\n"
      ]
    },
    {
      "cell_type": "markdown",
      "metadata": {
        "id": "-CvGRmzNdICV"
      },
      "source": [
        "## ngram rules\n",
        "\n",
        "These rules are used to extract the right sentences for each class"
      ]
    },
    {
      "cell_type": "code",
      "execution_count": null,
      "metadata": {
        "id": "06_e12Nsrdla"
      },
      "outputs": [],
      "source": [
        "class_1_ngrams = [\n",
        "    ('it', 'is', 'not', 'the', 'case', 'that', '_=1', 'is'),\n",
        "    ('it', 'is', 'not', 'the', 'case', 'that', 'for', 'all', '_=1'),\n",
        "    ('_=1', 'is', '_>1', '_(=and|=or)', '_=1', 'is', '_>1'),\n",
        "    ('it', 'is', 'not', 'the', 'case', 'that', 'there', 'is', 'an', 'element', '_=1'),\n",
        "]\n",
        "\n",
        "class_2_ngrams = [\n",
        "    ('for', 'all', '_>1'),\n",
        "    ('then', '_=1'),\n",
        "    ('there', 'is', 'a', '_>1', '_=1', 'such', 'that', '_=1', 'is', '_>1'),\n",
        "    ('_=1', 'is', 'not', '_>1', 'than', '_=1'),\n",
        "    ('_=1', 'is', '_>1', 'than', '_=1'),\n",
        "    ('_=1', 'is', 'in', 'front', 'of', '_=1'),\n",
        "    ('something', 'is', 'to', 'the', '_(=left|=right)', 'of', '_=1'),\n",
        "    ('_=1', 'and', '_=1', 'is', 'a', '_>1'),\n",
        "    ('all', 'these', 'hold'),\n",
        "    ('at', 'least', 'one', 'of', 'these', 'holds'),\n",
        "    ('_=1', 'is', '_>1', '_=1', 'is'),\n",
        "    ('_=1', 'is', 'a', '_>1', '_=1', 'is'),\n",
        "    ('_=1', 'is', 'not', '_>1', '_=1', 'is'),\n",
        "    ('_=1', 'is', 'not', 'a', '_>1', '_=1', 'is'),\n",
        "]\n",
        "\n",
        "class_3_ngrams = [\n",
        "    ('any', '_>1'),\n",
        "    ('every', '_>1'),\n",
        "    ('some', '_>1'),\n",
        "    ('a', '_>1', 'is'),\n",
        "    ('_>1', 'are', '_>1'),\n",
        "]"
      ]
    },
    {
      "cell_type": "markdown",
      "metadata": {
        "id": "2i_4oxVLdUSd"
      },
      "source": [
        "## classify_sentence\n",
        "\n",
        "This function is used to classify a particular sentence"
      ]
    },
    {
      "cell_type": "code",
      "execution_count": null,
      "metadata": {
        "id": "QyOQkP_vdc3w"
      },
      "outputs": [],
      "source": [
        "def classify_sentence(row):\n",
        "    translation = normalize(row['Translation'])\n",
        "\n",
        "    if len(get_matching_ngrams_by_length(translation, class_1_ngrams)) > 0:\n",
        "        return '1'\n",
        "    elif len(get_matching_ngrams_by_length(translation, class_2_ngrams)) > 0:\n",
        "        return '2'\n",
        "    elif len(get_matching_ngrams_by_length(translation, class_3_ngrams)) > 0:\n",
        "        return '3'\n",
        "    else:\n",
        "        return '0'\n"
      ]
    },
    {
      "cell_type": "markdown",
      "metadata": {
        "id": "PHyy1FdFdp3Y"
      },
      "source": [
        "## Load the dataset and normalize\n",
        "\n",
        "We use 2 base datasets to generate our new dataset. The first dataset includes more formulaic sentences and comes from [Enhancing and Evaluating the Grammatical Framework Approach to Logic-to-Text Generation](https://aclanthology.org/2022.gem-1.13) (Calò et al., GEM 2022).\n",
        "The second dataset includes less formulaic sentences and comes from [Harnessing the Power of Large Language Models for Natural Language to First-Order Logic Translation](https://arxiv.org/abs/2305.15541) (Yuan Yang et al., 2023).\n",
        "\n",
        "This code loads and normalizes the base dataset, we also filter out the following rows:\n",
        "- Duplicate rows (keeping the first one)\n",
        "- Rows without a translation"
      ]
    },
    {
      "cell_type": "code",
      "execution_count": null,
      "metadata": {
        "id": "oluHBYL5dnJv"
      },
      "outputs": [],
      "source": [
        "df = pd.read_csv('all_results.csv')\n",
        "df2 = pd.read_json('https://huggingface.co/datasets/yuan-yang/MALLS-v0/raw/main/MALLS-v0.1-train.json')\n",
        "\n",
        "def preproc(s):\n",
        "  s = str(s)\n",
        "  s = s.replace(r'\\item', \"<br>\"+chr(8226))\n",
        "\n",
        "  if s.startswith(\" \"):\n",
        "    s = s[1:]\n",
        "  s = s[0].upper() + s[1:]\n",
        "  s = s.replace(\" ,\", \",\").replace(\" :\", \":\")\n",
        "  s = s + \".\"\n",
        "\n",
        "  return s\n",
        "\n",
        "new_data = []\n",
        "for _, row in df.iterrows():\n",
        "    for translation_type in [\"Baseline\", \"Ranta\", \"LoLa\"]:\n",
        "        new_row = {\n",
        "            \"Formula\": row[\"Formula\"],\n",
        "            \"Translation\": preproc(row[translation_type]),\n",
        "            \"Translation_Type\": translation_type\n",
        "        }\n",
        "        new_data.append(new_row)\n",
        "\n",
        "for _, row in df2.iterrows():\n",
        "  new_row = {\n",
        "    \"Formula\": row[\"FOL\"],\n",
        "    \"Translation\": row[\"NL\"],\n",
        "    \"Translation_Type\": \"MALLS\"\n",
        "  }\n",
        "  new_data.append(new_row)\n",
        "\n",
        "transformed_df = pd.DataFrame(new_data)\n",
        "transformed_df = transformed_df.drop_duplicates(subset=['Translation'])\n",
        "transformed_df = transformed_df[transformed_df['Translation'].apply(lambda x: isinstance(x, str))]"
      ]
    },
    {
      "cell_type": "markdown",
      "metadata": {
        "id": "2Ev9KRo2epze"
      },
      "source": [
        "## Clasify the dataset\n",
        "\n",
        "Now we can classify the whole dataset"
      ]
    },
    {
      "cell_type": "code",
      "execution_count": null,
      "metadata": {
        "colab": {
          "base_uri": "https://localhost:8080/",
          "height": 49,
          "referenced_widgets": [
            "3a9f97fe135449f4ae2b2795a87f5bd5",
            "4f288c671a7842ec90f9174f65922ab6",
            "94fc5e182c3249789eff1f06c97d7831",
            "4acaed573a5f410d84328017677ddfd3",
            "86422f0cf0c74e0abf6e40ccfb164c73",
            "ea3d778c25aa40cca4da08155a9c62f2",
            "eaf6c7ef585f4e1a8c076aad5678ce9a",
            "517f7c6b28a9408881361a4e56933eac",
            "3a1b75d57e1843d388bd2c3bc745481e",
            "6b6e2a5b851849c78d42dd47636c35e3",
            "953c3d6253534b54b7784586391032b6"
          ]
        },
        "id": "NAu3SLtyewC9",
        "outputId": "798c3f2f-e837-4a4f-86a4-0343a0fc0c65"
      },
      "outputs": [
        {
          "output_type": "display_data",
          "data": {
            "text/plain": [
              "  0%|          | 0/37523 [00:00<?, ?it/s]"
            ],
            "application/vnd.jupyter.widget-view+json": {
              "version_major": 2,
              "version_minor": 0,
              "model_id": "3a9f97fe135449f4ae2b2795a87f5bd5"
            }
          },
          "metadata": {}
        }
      ],
      "source": [
        "transformed_df['Class'] = transformed_df.progress_apply(classify_sentence, axis=1)"
      ]
    },
    {
      "cell_type": "markdown",
      "metadata": {
        "id": "BAM4wfmze_jW"
      },
      "source": [
        "## Quality checks\n",
        "\n",
        "Now let's check how good our clasifications are"
      ]
    },
    {
      "cell_type": "markdown",
      "metadata": {
        "id": "k8sbTY8XfjHY"
      },
      "source": [
        "### Basic stats\n",
        "\n",
        "How many datapoints where we able to classify?"
      ]
    },
    {
      "cell_type": "code",
      "execution_count": null,
      "metadata": {
        "colab": {
          "base_uri": "https://localhost:8080/"
        },
        "id": "lqGZDSdGfriA",
        "outputId": "6cf71aba-860e-4138-f81d-bdf45fdb5d56"
      },
      "outputs": [
        {
          "output_type": "stream",
          "name": "stdout",
          "text": [
            "Classified:  17620\n",
            "Unclassifiable:  19903\n"
          ]
        }
      ],
      "source": [
        "print(\"Classified: \", len(transformed_df[transformed_df['Class'] != '0']))\n",
        "print(\"Unclassifiable: \", len(transformed_df[transformed_df['Class'] == '0']))"
      ]
    },
    {
      "cell_type": "markdown",
      "metadata": {
        "id": "9bj-BWw-fITY"
      },
      "source": [
        "### Mark difference\n",
        "\n",
        "Marks all sentences that recieved a different class then we expected based on which system was used to generate the sentence, and print the ratios"
      ]
    },
    {
      "cell_type": "code",
      "execution_count": null,
      "metadata": {
        "colab": {
          "base_uri": "https://localhost:8080/"
        },
        "id": "L8apE2MWfTdY",
        "outputId": "31730814-3d3d-475b-dc94-7979a67dec6f"
      },
      "outputs": [
        {
          "output_type": "stream",
          "name": "stdout",
          "text": [
            "0    19903\n",
            "1     4117\n",
            "2     4786\n",
            "3     8717\n",
            "Name: Class, dtype: int64\n",
            "Class  Difference\n",
            "1      False         0.773864\n",
            "       True          0.226136\n",
            "2      False         0.695361\n",
            "       True          0.304639\n",
            "3      False         0.980039\n",
            "       True          0.019961\n",
            "Name: Difference, dtype: float64\n",
            "Difference:  2563\n"
          ]
        }
      ],
      "source": [
        "class_to_translation_type = {\n",
        "    '0': ['Unclassifiable'],\n",
        "    '1': ['Baseline'],\n",
        "    '2': ['Ranta', 'LoLa'],\n",
        "    '3': ['MALLS']\n",
        "}\n",
        "\n",
        "def mark_difference(row):\n",
        "    expected_types = class_to_translation_type[row['Class']]\n",
        "    return row['Translation_Type'] not in expected_types\n",
        "\n",
        "transformed_df['Difference'] = transformed_df.apply(mark_difference, axis=1)\n",
        "\n",
        "print(transformed_df['Class'].value_counts()[['0', '1', '2', '3']])\n",
        "print(transformed_df.groupby('Class')['Difference'].value_counts(normalize=True)[['1', '2', '3']])\n",
        "print(\"Difference: \", len(transformed_df.loc[transformed_df['Difference'] == True].loc[transformed_df['Class'] != '0']))"
      ]
    },
    {
      "cell_type": "markdown",
      "metadata": {
        "id": "1zP7q4Ye22dQ"
      },
      "source": [
        "### Pick sentences\n",
        "\n",
        "now lets pick 4000 sentences from each class, so that all the classes are of the same length"
      ]
    },
    {
      "cell_type": "code",
      "execution_count": null,
      "metadata": {
        "id": "KrDBD_GU3I4f"
      },
      "outputs": [],
      "source": [
        "transformed_df = transformed_df.groupby('Class').apply(lambda x: x.sample(n=4000, random_state=1)).reset_index(drop=True)"
      ]
    },
    {
      "cell_type": "markdown",
      "metadata": {
        "id": "NUQxs3Mi1lb9"
      },
      "source": [
        "## Save the dataset\n",
        "\n",
        "Filter out all instances withou a label and save the transformed and classified dataset"
      ]
    },
    {
      "cell_type": "code",
      "execution_count": null,
      "metadata": {
        "id": "VmaiKhnF1lQW"
      },
      "outputs": [],
      "source": [
        "transformed_df[transformed_df['Class'] != '0']\n",
        "transformed_df.to_csv('classified.csv', index=False)"
      ]
    },
    {
      "cell_type": "markdown",
      "metadata": {
        "id": "F4c2skrw2Eik"
      },
      "source": [
        "## Split the dataset\n",
        "\n",
        "Now that we have a good dataset lets split it into a training and test set."
      ]
    },
    {
      "cell_type": "markdown",
      "metadata": {
        "id": "Kd0E6fyp2WcF"
      },
      "source": [
        "### Count sentence length\n",
        "\n",
        "First we count the length of each sentence, so we can later check if the lengths are evenly distributed"
      ]
    },
    {
      "cell_type": "code",
      "execution_count": null,
      "metadata": {
        "id": "GRaEfET72NNK"
      },
      "outputs": [],
      "source": [
        "transformed_df['length'] = transformed_df['Translation'].apply(lambda x: len(normalize(str(x)).split()))"
      ]
    },
    {
      "cell_type": "markdown",
      "metadata": {
        "id": "qz8xgDCa3QXE"
      },
      "source": [
        "### Check distribution\n",
        "\n",
        "Before splitting let's check the distribution of the sentence lengths for each class"
      ]
    },
    {
      "cell_type": "code",
      "execution_count": null,
      "metadata": {
        "id": "Nzms3OZr3Plt",
        "colab": {
          "base_uri": "https://localhost:8080/"
        },
        "outputId": "97383ca2-bac9-401f-aa87-781b3c64f55b"
      },
      "outputs": [
        {
          "output_type": "stream",
          "name": "stdout",
          "text": [
            "Class\n",
            "0    15.92825\n",
            "1    31.80075\n",
            "2    25.85150\n",
            "3    16.16975\n",
            "Name: length, dtype: float64\n",
            "Class\n",
            "0    15.0\n",
            "1    31.0\n",
            "2    26.0\n",
            "3    16.0\n",
            "Name: length, dtype: float64\n",
            "Class\n",
            "0    46\n",
            "1    69\n",
            "2    50\n",
            "3    46\n",
            "Name: length, dtype: int64\n",
            "Class\n",
            "0    2\n",
            "1    9\n",
            "2    5\n",
            "3    3\n",
            "Name: length, dtype: int64\n"
          ]
        }
      ],
      "source": [
        "print(transformed_df.groupby('Class')['length'].mean())\n",
        "print(transformed_df.groupby('Class')['length'].median())\n",
        "print(transformed_df.groupby('Class')['length'].max())\n",
        "print(transformed_df.groupby('Class')['length'].min())"
      ]
    },
    {
      "cell_type": "markdown",
      "metadata": {
        "id": "brIhNW-R3eSR"
      },
      "source": [
        "### Split\n",
        "\n",
        "Now lets actually split the dataset"
      ]
    },
    {
      "cell_type": "code",
      "execution_count": null,
      "metadata": {
        "id": "pzRdCK6T3kEZ"
      },
      "outputs": [],
      "source": [
        "train, test = train_test_split(transformed_df, test_size=0.05, random_state=1, stratify=transformed_df['Class'])\n",
        "\n",
        "df_train = pd.DataFrame(train)\n",
        "df_test = pd.DataFrame(test)"
      ]
    },
    {
      "cell_type": "markdown",
      "metadata": {
        "id": "2T24wba73xBN"
      },
      "source": [
        "### Check distribution again\n",
        "\n",
        "Now we check the distribution again, to make sure that it didn't change to much"
      ]
    },
    {
      "cell_type": "code",
      "execution_count": null,
      "metadata": {
        "id": "_CBbW7hC37YK",
        "colab": {
          "base_uri": "https://localhost:8080/"
        },
        "outputId": "1a9d08e6-7fbb-4c6c-f3f4-1db7f9ef781d"
      },
      "outputs": [
        {
          "output_type": "stream",
          "name": "stdout",
          "text": [
            "train: \n",
            "Class\n",
            "0    15.948684\n",
            "1    31.750000\n",
            "2    25.823421\n",
            "3    16.171842\n",
            "Name: length, dtype: float64\n",
            "Class\n",
            "0    15.0\n",
            "1    31.0\n",
            "2    26.0\n",
            "3    16.0\n",
            "Name: length, dtype: float64\n",
            "Class\n",
            "0    46\n",
            "1    69\n",
            "2    49\n",
            "3    46\n",
            "Name: length, dtype: int64\n",
            "Class\n",
            "0    2\n",
            "1    9\n",
            "2    5\n",
            "3    3\n",
            "Name: length, dtype: int64\n",
            "test: \n",
            "Class\n",
            "0    15.540\n",
            "1    32.765\n",
            "2    26.385\n",
            "3    16.130\n",
            "Name: length, dtype: float64\n",
            "Class\n",
            "0    15.0\n",
            "1    33.0\n",
            "2    27.0\n",
            "3    16.0\n",
            "Name: length, dtype: float64\n",
            "Class\n",
            "0    31\n",
            "1    59\n",
            "2    50\n",
            "3    33\n",
            "Name: length, dtype: int64\n",
            "Class\n",
            "0     3\n",
            "1    13\n",
            "2     8\n",
            "3     3\n",
            "Name: length, dtype: int64\n"
          ]
        }
      ],
      "source": [
        "print(\"train: \")\n",
        "print(df_train.groupby('Class')['length'].mean())\n",
        "print(df_train.groupby('Class')['length'].median())\n",
        "print(df_train.groupby('Class')['length'].max())\n",
        "print(df_train.groupby('Class')['length'].min())\n",
        "\n",
        "\n",
        "print(\"test: \")\n",
        "print(df_test.groupby('Class')['length'].mean())\n",
        "print(df_test.groupby('Class')['length'].median())\n",
        "print(df_test.groupby('Class')['length'].max())\n",
        "print(df_test.groupby('Class')['length'].min())"
      ]
    },
    {
      "cell_type": "markdown",
      "metadata": {
        "id": "KFBQml-b4AaV"
      },
      "source": [
        "### Save train and test datasets\n",
        "\n",
        "Finally, let's save both the train and test datasets to a csv"
      ]
    },
    {
      "cell_type": "code",
      "execution_count": null,
      "metadata": {
        "id": "UCYjp5fZ4JIA"
      },
      "outputs": [],
      "source": [
        "df_train.to_csv('train.csv', index=False)\n",
        "df_test.to_csv('test.csv', index=False)"
      ]
    }
  ],
  "metadata": {
    "colab": {
      "provenance": [],
      "gpuType": "T4",
      "authorship_tag": "ABX9TyM/VVijB0361blh+JoErN55"
    },
    "kernelspec": {
      "display_name": "Python 3",
      "name": "python3"
    },
    "language_info": {
      "name": "python"
    },
    "accelerator": "GPU",
    "widgets": {
      "application/vnd.jupyter.widget-state+json": {
        "3a9f97fe135449f4ae2b2795a87f5bd5": {
          "model_module": "@jupyter-widgets/controls",
          "model_name": "HBoxModel",
          "model_module_version": "1.5.0",
          "state": {
            "_dom_classes": [],
            "_model_module": "@jupyter-widgets/controls",
            "_model_module_version": "1.5.0",
            "_model_name": "HBoxModel",
            "_view_count": null,
            "_view_module": "@jupyter-widgets/controls",
            "_view_module_version": "1.5.0",
            "_view_name": "HBoxView",
            "box_style": "",
            "children": [
              "IPY_MODEL_4f288c671a7842ec90f9174f65922ab6",
              "IPY_MODEL_94fc5e182c3249789eff1f06c97d7831",
              "IPY_MODEL_4acaed573a5f410d84328017677ddfd3"
            ],
            "layout": "IPY_MODEL_86422f0cf0c74e0abf6e40ccfb164c73"
          }
        },
        "4f288c671a7842ec90f9174f65922ab6": {
          "model_module": "@jupyter-widgets/controls",
          "model_name": "HTMLModel",
          "model_module_version": "1.5.0",
          "state": {
            "_dom_classes": [],
            "_model_module": "@jupyter-widgets/controls",
            "_model_module_version": "1.5.0",
            "_model_name": "HTMLModel",
            "_view_count": null,
            "_view_module": "@jupyter-widgets/controls",
            "_view_module_version": "1.5.0",
            "_view_name": "HTMLView",
            "description": "",
            "description_tooltip": null,
            "layout": "IPY_MODEL_ea3d778c25aa40cca4da08155a9c62f2",
            "placeholder": "​",
            "style": "IPY_MODEL_eaf6c7ef585f4e1a8c076aad5678ce9a",
            "value": "100%"
          }
        },
        "94fc5e182c3249789eff1f06c97d7831": {
          "model_module": "@jupyter-widgets/controls",
          "model_name": "FloatProgressModel",
          "model_module_version": "1.5.0",
          "state": {
            "_dom_classes": [],
            "_model_module": "@jupyter-widgets/controls",
            "_model_module_version": "1.5.0",
            "_model_name": "FloatProgressModel",
            "_view_count": null,
            "_view_module": "@jupyter-widgets/controls",
            "_view_module_version": "1.5.0",
            "_view_name": "ProgressView",
            "bar_style": "success",
            "description": "",
            "description_tooltip": null,
            "layout": "IPY_MODEL_517f7c6b28a9408881361a4e56933eac",
            "max": 37523,
            "min": 0,
            "orientation": "horizontal",
            "style": "IPY_MODEL_3a1b75d57e1843d388bd2c3bc745481e",
            "value": 37523
          }
        },
        "4acaed573a5f410d84328017677ddfd3": {
          "model_module": "@jupyter-widgets/controls",
          "model_name": "HTMLModel",
          "model_module_version": "1.5.0",
          "state": {
            "_dom_classes": [],
            "_model_module": "@jupyter-widgets/controls",
            "_model_module_version": "1.5.0",
            "_model_name": "HTMLModel",
            "_view_count": null,
            "_view_module": "@jupyter-widgets/controls",
            "_view_module_version": "1.5.0",
            "_view_name": "HTMLView",
            "description": "",
            "description_tooltip": null,
            "layout": "IPY_MODEL_6b6e2a5b851849c78d42dd47636c35e3",
            "placeholder": "​",
            "style": "IPY_MODEL_953c3d6253534b54b7784586391032b6",
            "value": " 37523/37523 [01:10&lt;00:00, 533.48it/s]"
          }
        },
        "86422f0cf0c74e0abf6e40ccfb164c73": {
          "model_module": "@jupyter-widgets/base",
          "model_name": "LayoutModel",
          "model_module_version": "1.2.0",
          "state": {
            "_model_module": "@jupyter-widgets/base",
            "_model_module_version": "1.2.0",
            "_model_name": "LayoutModel",
            "_view_count": null,
            "_view_module": "@jupyter-widgets/base",
            "_view_module_version": "1.2.0",
            "_view_name": "LayoutView",
            "align_content": null,
            "align_items": null,
            "align_self": null,
            "border": null,
            "bottom": null,
            "display": null,
            "flex": null,
            "flex_flow": null,
            "grid_area": null,
            "grid_auto_columns": null,
            "grid_auto_flow": null,
            "grid_auto_rows": null,
            "grid_column": null,
            "grid_gap": null,
            "grid_row": null,
            "grid_template_areas": null,
            "grid_template_columns": null,
            "grid_template_rows": null,
            "height": null,
            "justify_content": null,
            "justify_items": null,
            "left": null,
            "margin": null,
            "max_height": null,
            "max_width": null,
            "min_height": null,
            "min_width": null,
            "object_fit": null,
            "object_position": null,
            "order": null,
            "overflow": null,
            "overflow_x": null,
            "overflow_y": null,
            "padding": null,
            "right": null,
            "top": null,
            "visibility": null,
            "width": null
          }
        },
        "ea3d778c25aa40cca4da08155a9c62f2": {
          "model_module": "@jupyter-widgets/base",
          "model_name": "LayoutModel",
          "model_module_version": "1.2.0",
          "state": {
            "_model_module": "@jupyter-widgets/base",
            "_model_module_version": "1.2.0",
            "_model_name": "LayoutModel",
            "_view_count": null,
            "_view_module": "@jupyter-widgets/base",
            "_view_module_version": "1.2.0",
            "_view_name": "LayoutView",
            "align_content": null,
            "align_items": null,
            "align_self": null,
            "border": null,
            "bottom": null,
            "display": null,
            "flex": null,
            "flex_flow": null,
            "grid_area": null,
            "grid_auto_columns": null,
            "grid_auto_flow": null,
            "grid_auto_rows": null,
            "grid_column": null,
            "grid_gap": null,
            "grid_row": null,
            "grid_template_areas": null,
            "grid_template_columns": null,
            "grid_template_rows": null,
            "height": null,
            "justify_content": null,
            "justify_items": null,
            "left": null,
            "margin": null,
            "max_height": null,
            "max_width": null,
            "min_height": null,
            "min_width": null,
            "object_fit": null,
            "object_position": null,
            "order": null,
            "overflow": null,
            "overflow_x": null,
            "overflow_y": null,
            "padding": null,
            "right": null,
            "top": null,
            "visibility": null,
            "width": null
          }
        },
        "eaf6c7ef585f4e1a8c076aad5678ce9a": {
          "model_module": "@jupyter-widgets/controls",
          "model_name": "DescriptionStyleModel",
          "model_module_version": "1.5.0",
          "state": {
            "_model_module": "@jupyter-widgets/controls",
            "_model_module_version": "1.5.0",
            "_model_name": "DescriptionStyleModel",
            "_view_count": null,
            "_view_module": "@jupyter-widgets/base",
            "_view_module_version": "1.2.0",
            "_view_name": "StyleView",
            "description_width": ""
          }
        },
        "517f7c6b28a9408881361a4e56933eac": {
          "model_module": "@jupyter-widgets/base",
          "model_name": "LayoutModel",
          "model_module_version": "1.2.0",
          "state": {
            "_model_module": "@jupyter-widgets/base",
            "_model_module_version": "1.2.0",
            "_model_name": "LayoutModel",
            "_view_count": null,
            "_view_module": "@jupyter-widgets/base",
            "_view_module_version": "1.2.0",
            "_view_name": "LayoutView",
            "align_content": null,
            "align_items": null,
            "align_self": null,
            "border": null,
            "bottom": null,
            "display": null,
            "flex": null,
            "flex_flow": null,
            "grid_area": null,
            "grid_auto_columns": null,
            "grid_auto_flow": null,
            "grid_auto_rows": null,
            "grid_column": null,
            "grid_gap": null,
            "grid_row": null,
            "grid_template_areas": null,
            "grid_template_columns": null,
            "grid_template_rows": null,
            "height": null,
            "justify_content": null,
            "justify_items": null,
            "left": null,
            "margin": null,
            "max_height": null,
            "max_width": null,
            "min_height": null,
            "min_width": null,
            "object_fit": null,
            "object_position": null,
            "order": null,
            "overflow": null,
            "overflow_x": null,
            "overflow_y": null,
            "padding": null,
            "right": null,
            "top": null,
            "visibility": null,
            "width": null
          }
        },
        "3a1b75d57e1843d388bd2c3bc745481e": {
          "model_module": "@jupyter-widgets/controls",
          "model_name": "ProgressStyleModel",
          "model_module_version": "1.5.0",
          "state": {
            "_model_module": "@jupyter-widgets/controls",
            "_model_module_version": "1.5.0",
            "_model_name": "ProgressStyleModel",
            "_view_count": null,
            "_view_module": "@jupyter-widgets/base",
            "_view_module_version": "1.2.0",
            "_view_name": "StyleView",
            "bar_color": null,
            "description_width": ""
          }
        },
        "6b6e2a5b851849c78d42dd47636c35e3": {
          "model_module": "@jupyter-widgets/base",
          "model_name": "LayoutModel",
          "model_module_version": "1.2.0",
          "state": {
            "_model_module": "@jupyter-widgets/base",
            "_model_module_version": "1.2.0",
            "_model_name": "LayoutModel",
            "_view_count": null,
            "_view_module": "@jupyter-widgets/base",
            "_view_module_version": "1.2.0",
            "_view_name": "LayoutView",
            "align_content": null,
            "align_items": null,
            "align_self": null,
            "border": null,
            "bottom": null,
            "display": null,
            "flex": null,
            "flex_flow": null,
            "grid_area": null,
            "grid_auto_columns": null,
            "grid_auto_flow": null,
            "grid_auto_rows": null,
            "grid_column": null,
            "grid_gap": null,
            "grid_row": null,
            "grid_template_areas": null,
            "grid_template_columns": null,
            "grid_template_rows": null,
            "height": null,
            "justify_content": null,
            "justify_items": null,
            "left": null,
            "margin": null,
            "max_height": null,
            "max_width": null,
            "min_height": null,
            "min_width": null,
            "object_fit": null,
            "object_position": null,
            "order": null,
            "overflow": null,
            "overflow_x": null,
            "overflow_y": null,
            "padding": null,
            "right": null,
            "top": null,
            "visibility": null,
            "width": null
          }
        },
        "953c3d6253534b54b7784586391032b6": {
          "model_module": "@jupyter-widgets/controls",
          "model_name": "DescriptionStyleModel",
          "model_module_version": "1.5.0",
          "state": {
            "_model_module": "@jupyter-widgets/controls",
            "_model_module_version": "1.5.0",
            "_model_name": "DescriptionStyleModel",
            "_view_count": null,
            "_view_module": "@jupyter-widgets/base",
            "_view_module_version": "1.2.0",
            "_view_name": "StyleView",
            "description_width": ""
          }
        }
      }
    }
  },
  "nbformat": 4,
  "nbformat_minor": 0
}